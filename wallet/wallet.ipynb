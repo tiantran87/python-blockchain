{
 "cells": [
  {
   "cell_type": "code",
   "execution_count": null,
   "id": "7abbe92c-d88d-49d1-af2d-cead9de51526",
   "metadata": {},
   "outputs": [],
   "source": []
  },
  {
   "cell_type": "code",
   "execution_count": 144,
   "id": "bb321fc7-ce8b-4245-b10d-8d2bf0e0105a",
   "metadata": {},
   "outputs": [],
   "source": [
    "# Import dependencies\n",
    "import os\n",
    "import subprocess\n",
    "import json\n",
    "from dotenv import load_dotenv\n",
    "from web3 import Web3\n",
    "from constants import *\n",
    "from bit import *\n",
    "from web3.middleware import geth_poa_middleware\n",
    "from eth_account import Account\n"
   ]
  },
  {
   "cell_type": "code",
   "execution_count": 145,
   "id": "5b8193f3-3327-42fc-a9fd-193b30028863",
   "metadata": {},
   "outputs": [
    {
     "name": "stdout",
     "output_type": "stream",
     "text": [
      "team keen lock truck celery danger code squirrel engage mystery wrist announce\n"
     ]
    }
   ],
   "source": [
    "# Load and set environment variables\n",
    "load_dotenv()\n",
    "mnemonic=os.getenv(\"mnemonic\")\n",
    "print(mnemonic)"
   ]
  },
  {
   "cell_type": "code",
   "execution_count": 146,
   "id": "7599a613-a077-43ce-84f5-4d97282e0f13",
   "metadata": {},
   "outputs": [],
   "source": [
    "# Create a function called `derive_wallets`\n",
    "def derive_wallets(mnemonic, coin, numderive):\n",
    "    command = f\"php ./derive -g --mnemonic=\\\"{mnemonic}\\\" --coin=\\\"{coin}\\\" --numderive=\\\"{numderive}\\\" --cols=index,path,privkey,pubkey,pubkeyhash,xprv,xpub,address --format=json\"\n",
    "    p = subprocess.Popen(command, stdout=subprocess.PIPE, shell=True)\n",
    "    output, err = p.communicate()\n",
    "    p_status = p.wait()\n",
    "    return json.loads(output)\n",
    " "
   ]
  },
  {
   "cell_type": "code",
   "execution_count": 147,
   "id": "65e81cec-e0a6-4364-ad87-8974882ec030",
   "metadata": {},
   "outputs": [
    {
     "data": {
      "text/plain": [
       "[{'index': 0,\n",
       "  'path': \"m/44'/60'/0'/0/0\",\n",
       "  'privkey': '0xe4ac4343d43cf2523862a2ed1e6aa4ce37ba971081c8f60f4701c370ee9fbb2c',\n",
       "  'pubkey': '02dc5ecce1df1c720656568f8a39341dbd3452c3bb03d2680cda4fd795d15de560',\n",
       "  'pubkeyhash': '83150f74380af61b3ac11ec67f3e12963de82ecf',\n",
       "  'xprv': 'xprvA2inXbstUjrFr5SQ3Tx9AAe4XcnN3dMT4Pr7h8ESEoS2DqMW3AeKcg7Fi2Uki5JKfupJ2xDKUmBtJiR41Re396EqfcCM1pgBVN943Z4p9om',\n",
       "  'xpub': 'xpub6Fi8w7QnK7QZ4ZWs9VV9XJao5ecrT65JRcmiVWe3o8y16dgeahxaAURjZHSs5AQx6RPLtdzm43JrRPnDeYtgXr65NRHxh8xK2niWujnAxDa',\n",
       "  'address': '0x2018B01C5a7ACa7ecf068345a8451D97eF90d4c2'},\n",
       " {'index': 1,\n",
       "  'path': \"m/44'/60'/0'/0/1\",\n",
       "  'privkey': '0xb7d21fb4b86fb69d76ceca4f653247e4065d96cf62c439ee6f40c15b106ab811',\n",
       "  'pubkey': '023b209459ee3454f55a55c21646ece868e3b103396a4b7369a57b964b425dc9bc',\n",
       "  'pubkeyhash': '47e87569a10e6379db3dde509c81367db9723150',\n",
       "  'xprv': 'xprvA2inXbstUjrFtWdTALFTYAEu9PWeExbsN8vDHYAaDCnh2hFS7FguEjWMFmnT1irZ7j9wTpRjQDPg1MxKXHCq5vSZGiPQ7xPpPkoCjWH4Cnt',\n",
       "  'xpub': 'xpub6Fi8w7QnK7QZ6zhvGMnTuJBdhRM8eRKijMqp5vaBmYKfuVaaeo19nXpq71sJKtAWHZVbsqgPbgpJhfH7S1KsCdWejTsVjugUdhjK9ZtGJpB',\n",
       "  'address': '0xF79E3d7EE2ec72A99A2Bd3a6b4cAFfa0Be185EB0'},\n",
       " {'index': 2,\n",
       "  'path': \"m/44'/60'/0'/0/2\",\n",
       "  'privkey': '0xf26dd0f9756c33567afd3576fb73d178bf732cc24e678bc54e5f90792a74e4e6',\n",
       "  'pubkey': '02abb78ec0db2ab3707cec3860cc6fd898ccfa87ed206ce6f0bc52115f7095aab4',\n",
       "  'pubkeyhash': 'a73a5daf91cbb948ec6eb3239d3a1fa014894330',\n",
       "  'xprv': 'xprvA2inXbstUjrFwzbQZMp2yrz1mnU3mk3E2xxX9PPT5QCAsBNdSv1tAEFqt44e9g7NgerFQhbfRpLxVQW6DDS2P2RNMfbK2AWvvtMg94MFhhH',\n",
       "  'xpub': 'xpub6Fi8w7QnK7QZAUfsfPM3LzvkKpJYBCm5QBt7wmo4djj9jyhmzTL8i2aKjJZGMHiyNkjxAZxx7sK3wpF2Stv1H9YQsoKkd396p5AutvzD1rJ',\n",
       "  'address': '0x6fcaA7f042a315eC28fE343d490B2F45c9b34A71'}]"
      ]
     },
     "execution_count": 147,
     "metadata": {},
     "output_type": "execute_result"
    }
   ],
   "source": [
    "# Test the function derive_wallets\n",
    "derive_wallets(mnemonic, ETH, 3)"
   ]
  },
  {
   "cell_type": "code",
   "execution_count": 148,
   "id": "eb9e6bf3-a38d-452c-99b3-019b201be584",
   "metadata": {},
   "outputs": [],
   "source": [
    "# Create a dictionary object called coins to store the output from `derive_wallets`.\n",
    "\n",
    "coins = {\"btc-test\": derive_wallets(mnemonic, BTCTEST, numderive), \"eth\": derive_wallets(mnemonic, ETH, numderive)}\n"
   ]
  },
  {
   "cell_type": "code",
   "execution_count": 149,
   "id": "87163027-6aaa-45b5-8f2d-e037eba69777",
   "metadata": {},
   "outputs": [
    {
     "name": "stdout",
     "output_type": "stream",
     "text": [
      "BTC-Test private key: \"cU5BsvDRcuwkg5rkPEDVbWYNzfxh9VX7ViKX9iwH9qGdDBdHZUJB\"\n",
      "ETH private key: \"0xe4ac4343d43cf2523862a2ed1e6aa4ce37ba971081c8f60f4701c370ee9fbb2c\"\n"
     ]
    }
   ],
   "source": [
    "# Test Final object:\n",
    "btctest_privkey = coins[BTCTEST][0]['privkey']\n",
    "eth_privkey = coins[ETH][0]['privkey']\n",
    "print('BTC-Test private key:',json.dumps(btctest_privkey))\n",
    "print('ETH private key:',json.dumps(eth_privkey))\n"
   ]
  },
  {
   "cell_type": "code",
   "execution_count": 150,
   "id": "d1b7acd9-08d9-49a7-884a-25edfb6fa6ce",
   "metadata": {},
   "outputs": [],
   "source": [
    "# Create a function called `priv_key_to_account` that converts privkey strings to account objects.\n",
    "def priv_key_to_account(coin, priv_key):\n",
    "    if coin == ETH:\n",
    "        return Account.privateKeyToAccount(priv_key)\n",
    "    elif coin == BTCTEST:\n",
    "        return PrivateKeyTestnet(priv_key)"
   ]
  },
  {
   "cell_type": "code",
   "execution_count": 151,
   "id": "95940eda-4348-4ac6-9e3a-29297765d598",
   "metadata": {},
   "outputs": [
    {
     "data": {
      "text/plain": [
       "<eth_account.signers.local.LocalAccount at 0x23c16857248>"
      ]
     },
     "execution_count": 151,
     "metadata": {},
     "output_type": "execute_result"
    }
   ],
   "source": [
    "# create a function to hold Ethereum \n",
    "eth_acc = priv_key_to_account(ETH, derive_wallets(mnemonic, ETH, 3)[0]['privkey'])\n",
    "eth_acc"
   ]
  },
  {
   "cell_type": "code",
   "execution_count": 134,
   "id": "1f3a7c93-4ea9-4787-a66b-2626968b59b2",
   "metadata": {},
   "outputs": [],
   "source": [
    "#Create a function called `create_tx` that creates an unsigned transaction appropriate metadata.\n",
    "def create_tx(coin, account, to, amount):\n",
    "    if coin == ETH: \n",
    "        gasEstimate = w3.eth.estimateGas(\n",
    "            {\"from\": account.address, \"to\": to, \"value\": amount}\n",
    "        )\n",
    "        return {\n",
    "            \"from\": account.address,\n",
    "            \"to\": to,\n",
    "            \"value\": amount,\n",
    "            \"gasPrice\": w3.eth.gasPrice,\n",
    "            \"gas\": gasEstimate,\n",
    "            \"nonce\": w3.eth.getTransactionCount(account.address),\n",
    "        }\n",
    "    elif coin == BTCTEST:\n",
    "        return PrivateKeyTestnet.prepare_transaction(account.address, [(to, amount, BTC)])\n",
    "\n",
    "\n",
    "# Create a function called `send_tx` that calls `create_tx`, signs and sends the transaction.\n",
    "def send_tx(coin, account, to, amount):\n",
    "    txn = create_tx(coin, account, to, amount)\n",
    "    if coin == ETH:\n",
    "        signed_txn = eth_acc.sign_transaction(txn)\n",
    "        result = w3.eth.sendRawTransaction(signed_txn.rawTransaction)\n",
    "        print(result.hex())\n",
    "        return result.hex()\n",
    "    elif coin == BTCTEST:\n",
    "        tx_btctest = create_tx(coin, account, to, amount)\n",
    "        signed_txn = account.sign_transaction(txn)\n",
    "        print(signed_txn)\n",
    "        return NetworkAPI.broadcast_tx_testnet(signed_txn)"
   ]
  },
  {
   "cell_type": "code",
   "execution_count": 153,
   "id": "09c1a1ed-be32-40f5-95e8-d414549cc342",
   "metadata": {},
   "outputs": [],
   "source": [
    "# create a function to hold Ethereum \n",
    "eth_acc = priv_key_to_account(ETH, derive_wallets(mnemonic, ETH, 3)[0]['privkey'])\n",
    "eth_acc\n",
    "eth_key = coins[ETH][0]['privkey']\n",
    "eth_address = coins[ETH][1]['address']\n"
   ]
  },
  {
   "cell_type": "code",
   "execution_count": 155,
   "id": "f6c240de-fc09-4c97-ba84-cee9fa4b6e01",
   "metadata": {},
   "outputs": [
    {
     "name": "stdout",
     "output_type": "stream",
     "text": [
      "0xcfe8601009ef1db1668c006fea892bf775a3705fab9f626109a4dc56b670d8c7\n"
     ]
    },
    {
     "data": {
      "text/plain": [
       "'0xcfe8601009ef1db1668c006fea892bf775a3705fab9f626109a4dc56b670d8c7'"
      ]
     },
     "execution_count": 155,
     "metadata": {},
     "output_type": "execute_result"
    }
   ],
   "source": [
    "send_tx(ETH, priv_key_to_account(ETH, eth_key),eth_address, 1)"
   ]
  },
  {
   "cell_type": "code",
   "execution_count": 156,
   "id": "a6b5ea87-e2ed-4c88-8bc3-e01cb170f010",
   "metadata": {},
   "outputs": [
    {
     "data": {
      "text/plain": [
       "'0xF79E3d7EE2ec72A99A2Bd3a6b4cAFfa0Be185EB0'"
      ]
     },
     "execution_count": 156,
     "metadata": {},
     "output_type": "execute_result"
    }
   ],
   "source": [
    "eth_address"
   ]
  },
  {
   "cell_type": "code",
   "execution_count": null,
   "id": "cc53c904-93a3-4cd1-9ee7-1df28f1791a4",
   "metadata": {},
   "outputs": [],
   "source": []
  }
 ],
 "metadata": {
  "kernelspec": {
   "display_name": "Python 3",
   "language": "python",
   "name": "python3"
  },
  "language_info": {
   "codemirror_mode": {
    "name": "ipython",
    "version": 3
   },
   "file_extension": ".py",
   "mimetype": "text/x-python",
   "name": "python",
   "nbconvert_exporter": "python",
   "pygments_lexer": "ipython3",
   "version": "3.8.11"
  }
 },
 "nbformat": 4,
 "nbformat_minor": 5
}
